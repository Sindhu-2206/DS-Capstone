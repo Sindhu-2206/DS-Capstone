{
  "nbformat": 4,
  "nbformat_minor": 0,
  "metadata": {
    "colab": {
      "provenance": []
    },
    "kernelspec": {
      "name": "python3",
      "display_name": "Python 3"
    },
    "language_info": {
      "name": "python"
    }
  },
  "cells": [
    {
      "cell_type": "code",
      "execution_count": 4,
      "metadata": {
        "colab": {
          "base_uri": "https://localhost:8080/"
        },
        "id": "iJVlHmV8bMpp",
        "outputId": "4722929f-33b8-478d-fd9d-09e9fd3a821d"
      },
      "outputs": [
        {
          "output_type": "stream",
          "name": "stdout",
          "text": [
            "Workflow diagram saved as 'generative_ai_workflow.png'\n"
          ]
        }
      ],
      "source": [
        "from graphviz import Digraph\n",
        "\n",
        "def generate_workflow_diagram():\n",
        "    dot = Digraph('Generative AI Workflow', node_attr={'shape': 'box', 'style': 'filled', 'fillcolor': 'lightblue'})\n",
        "\n",
        "    # Data Sources\n",
        "    dot.node('Data Sources', 'Data Sources\\n(Weather, Logistics, Retail, Economic Indicators)')\n",
        "    dot.node('Feature Engineering', 'Feature Engineering\\n(Data Cleaning, Missing Value Imputation, Outlier Detection, Feature Selection)')\n",
        "\n",
        "    # RAG Components\n",
        "    dot.node('Retriever', 'Retriever\\n(Vector DB: FAISS/Pinecone\\nIndexes historical supply chain disruptions)')\n",
        "    dot.node('Retriever Index', 'Retriever Index\\n(Stores embeddings for fast lookup)')\n",
        "    dot.node('Generator', 'Generator\\n(T5/GPT-3\\nGenerates dynamic risk reports)')\n",
        "    dot.node('Embeddings', 'Document Embeddings\\n(Converts supply chain documents into vector representations)')\n",
        "\n",
        "    # LoRA Components\n",
        "    dot.node('LoRA', 'LoRA\\n(Base Model: Transformer\\nInserted Adapter Layers: Optimize supply chain risk modeling\\nFine-Tuned Layers: Specific to disruption prediction)')\n",
        "\n",
        "    # Stable Diffusion Components\n",
        "    dot.node('Text Encoder', 'Text Encoder\\n(CLIP\\nEncodes supply chain disruptions into latent representations)')\n",
        "    dot.node('Latent Space', 'Latent Space\\n(Compressed representation of supply chain risks)')\n",
        "    dot.node('UNet Denoiser', 'UNet Denoiser\\n(Refines generated supply chain risk visualizations)')\n",
        "    dot.node('Image Output', 'Image Output\\n(Visual representation of risk scenarios)')\n",
        "\n",
        "    # Other Model Components\n",
        "    dot.node('RAG', 'RAG\\n(Contextual Analysis\\nRetrieves past disruptions to enhance predictions)')\n",
        "    dot.node('LSTM', 'LSTM\\n(Time-Series Prediction\\nForecasts supply chain disruptions based on sequential data)')\n",
        "    dot.node('Dashboard', 'Real-Time Risk Dashboard\\n(Displays risk scores, forecasts, and visual reports)')\n",
        "\n",
        "    # Data Flow\n",
        "    dot.edge('Data Sources', 'Feature Engineering')\n",
        "    dot.edge('Feature Engineering', 'Embeddings')\n",
        "    dot.edge('Embeddings', 'Retriever')\n",
        "    dot.edge('Retriever', 'Retriever Index')\n",
        "    dot.edge('Retriever Index', 'Generator')\n",
        "    dot.edge('Generator', 'RAG')\n",
        "    dot.edge('RAG', 'LoRA')\n",
        "    dot.edge('LoRA', 'Dashboard')\n",
        "    dot.edge('Feature Engineering', 'LSTM')\n",
        "    dot.edge('LSTM', 'Dashboard')\n",
        "\n",
        "    # Stable Diffusion Data Flow\n",
        "    dot.edge('Text Encoder', 'Latent Space')\n",
        "    dot.edge('Latent Space', 'UNet Denoiser')\n",
        "    dot.edge('UNet Denoiser', 'Image Output')\n",
        "\n",
        "    # Output\n",
        "    dot.render('generative_ai_workflow', format='png', cleanup=False)\n",
        "    print(\"Workflow diagram saved as 'generative_ai_workflow.png'\")\n",
        "\n",
        "# Generate the diagram\n",
        "generate_workflow_diagram()\n"
      ]
    }
  ]
}