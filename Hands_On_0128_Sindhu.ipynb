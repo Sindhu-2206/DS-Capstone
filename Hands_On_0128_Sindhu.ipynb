{
  "cells": [
    {
      "cell_type": "markdown",
      "id": "292bd975",
      "metadata": {
        "id": "292bd975"
      },
      "source": [
        "# GitHub, Jupyter Notebook, and Hugging Face LLM for Image Classification"
      ]
    },
    {
      "cell_type": "markdown",
      "id": "a2d6a79d",
      "metadata": {
        "id": "a2d6a79d"
      },
      "source": [
        "## Step 1: Setup GitHub in Jupyter Notebook"
      ]
    },
    {
      "cell_type": "code",
      "execution_count": 44,
      "id": "6d0daf75",
      "metadata": {
        "id": "6d0daf75",
        "colab": {
          "base_uri": "https://localhost:8080/"
        },
        "outputId": "977c65be-3f00-4fe4-d9f0-b13915cd0acf"
      },
      "outputs": [
        {
          "output_type": "stream",
          "name": "stdout",
          "text": [
            "Reinitialized existing Git repository in /content/.git/\n",
            "/bin/bash: -c: line 1: syntax error near unexpected token `newline'\n",
            "/bin/bash: -c: line 1: `git remote add origin <https://github.com/Sindhu-2206/DS-Capstone>'\n"
          ]
        }
      ],
      "source": [
        "\n",
        "!git init\n",
        "!git remote add origin <https://github.com/Sindhu-2206/DS-Capstone>\n"
      ]
    },
    {
      "cell_type": "code",
      "execution_count": 45,
      "id": "cbf3c61a",
      "metadata": {
        "id": "cbf3c61a",
        "colab": {
          "base_uri": "https://localhost:8080/"
        },
        "outputId": "25d84eda-2966-4fc3-ee4f-998acdfb2de8"
      },
      "outputs": [
        {
          "output_type": "stream",
          "name": "stdout",
          "text": [
            "/bin/bash: -c: line 1: syntax error near unexpected token `newline'\n",
            "/bin/bash: -c: line 1: `git clone <https://github.com/Sindhu-2206/DS-Capstone>'\n"
          ]
        }
      ],
      "source": [
        "\n",
        "!git clone <https://github.com/Sindhu-2206/DS-Capstone>\n"
      ]
    },
    {
      "cell_type": "markdown",
      "id": "0eae666c",
      "metadata": {
        "id": "0eae666c"
      },
      "source": [
        "## Step 2: Push and Pull Changes"
      ]
    },
    {
      "cell_type": "code",
      "source": [
        "!git config --global user.email \"mukkarasindhu@gmail.com\"\n",
        "!git config --global user.name \"Sindhu Mukkara\""
      ],
      "metadata": {
        "id": "fdnLRUXgWRRW"
      },
      "id": "fdnLRUXgWRRW",
      "execution_count": 46,
      "outputs": []
    },
    {
      "cell_type": "code",
      "execution_count": 47,
      "id": "34dc9a6d",
      "metadata": {
        "id": "34dc9a6d",
        "colab": {
          "base_uri": "https://localhost:8080/"
        },
        "outputId": "cdac34a3-5e92-4281-9859-b6867b9e63aa"
      },
      "outputs": [
        {
          "output_type": "stream",
          "name": "stdout",
          "text": [
            "On branch master\n",
            "nothing to commit, working tree clean\n",
            "fatal: 'origin' does not appear to be a git repository\n",
            "fatal: Could not read from remote repository.\n",
            "\n",
            "Please make sure you have the correct access rights\n",
            "and the repository exists.\n"
          ]
        }
      ],
      "source": [
        "!git add .\n",
        "!git commit -m \"Added image classification script\"\n",
        "!git push -u origin master"
      ]
    },
    {
      "cell_type": "code",
      "execution_count": 48,
      "id": "9b1e8cce",
      "metadata": {
        "id": "9b1e8cce",
        "colab": {
          "base_uri": "https://localhost:8080/"
        },
        "outputId": "4645bd75-e7a8-4eaf-9ba4-0b5ba7a8d508"
      },
      "outputs": [
        {
          "output_type": "stream",
          "name": "stdout",
          "text": [
            "fatal: 'origin' does not appear to be a git repository\n",
            "fatal: Could not read from remote repository.\n",
            "\n",
            "Please make sure you have the correct access rights\n",
            "and the repository exists.\n"
          ]
        }
      ],
      "source": [
        "\n",
        "!git pull origin main\n"
      ]
    },
    {
      "cell_type": "markdown",
      "id": "63549d90",
      "metadata": {
        "id": "63549d90"
      },
      "source": [
        "## Step 3: Install and Import Necessary Libraries"
      ]
    },
    {
      "cell_type": "code",
      "execution_count": 49,
      "id": "21a80e52",
      "metadata": {
        "id": "21a80e52",
        "colab": {
          "base_uri": "https://localhost:8080/"
        },
        "outputId": "1198b111-0778-4ca0-efa4-8658d874260c"
      },
      "outputs": [
        {
          "output_type": "stream",
          "name": "stdout",
          "text": [
            "Requirement already satisfied: transformers in /usr/local/lib/python3.11/dist-packages (4.47.1)\n",
            "Requirement already satisfied: datasets in /usr/local/lib/python3.11/dist-packages (3.2.0)\n",
            "Requirement already satisfied: pillow in /usr/local/lib/python3.11/dist-packages (11.1.0)\n",
            "Requirement already satisfied: filelock in /usr/local/lib/python3.11/dist-packages (from transformers) (3.17.0)\n",
            "Requirement already satisfied: huggingface-hub<1.0,>=0.24.0 in /usr/local/lib/python3.11/dist-packages (from transformers) (0.27.1)\n",
            "Requirement already satisfied: numpy>=1.17 in /usr/local/lib/python3.11/dist-packages (from transformers) (1.26.4)\n",
            "Requirement already satisfied: packaging>=20.0 in /usr/local/lib/python3.11/dist-packages (from transformers) (24.2)\n",
            "Requirement already satisfied: pyyaml>=5.1 in /usr/local/lib/python3.11/dist-packages (from transformers) (6.0.2)\n",
            "Requirement already satisfied: regex!=2019.12.17 in /usr/local/lib/python3.11/dist-packages (from transformers) (2024.11.6)\n",
            "Requirement already satisfied: requests in /usr/local/lib/python3.11/dist-packages (from transformers) (2.32.3)\n",
            "Requirement already satisfied: tokenizers<0.22,>=0.21 in /usr/local/lib/python3.11/dist-packages (from transformers) (0.21.0)\n",
            "Requirement already satisfied: safetensors>=0.4.1 in /usr/local/lib/python3.11/dist-packages (from transformers) (0.5.2)\n",
            "Requirement already satisfied: tqdm>=4.27 in /usr/local/lib/python3.11/dist-packages (from transformers) (4.67.1)\n",
            "Requirement already satisfied: pyarrow>=15.0.0 in /usr/local/lib/python3.11/dist-packages (from datasets) (17.0.0)\n",
            "Requirement already satisfied: dill<0.3.9,>=0.3.0 in /usr/local/lib/python3.11/dist-packages (from datasets) (0.3.8)\n",
            "Requirement already satisfied: pandas in /usr/local/lib/python3.11/dist-packages (from datasets) (2.2.2)\n",
            "Requirement already satisfied: xxhash in /usr/local/lib/python3.11/dist-packages (from datasets) (3.5.0)\n",
            "Requirement already satisfied: multiprocess<0.70.17 in /usr/local/lib/python3.11/dist-packages (from datasets) (0.70.16)\n",
            "Requirement already satisfied: fsspec<=2024.9.0,>=2023.1.0 in /usr/local/lib/python3.11/dist-packages (from fsspec[http]<=2024.9.0,>=2023.1.0->datasets) (2024.9.0)\n",
            "Requirement already satisfied: aiohttp in /usr/local/lib/python3.11/dist-packages (from datasets) (3.11.11)\n",
            "Requirement already satisfied: aiohappyeyeballs>=2.3.0 in /usr/local/lib/python3.11/dist-packages (from aiohttp->datasets) (2.4.4)\n",
            "Requirement already satisfied: aiosignal>=1.1.2 in /usr/local/lib/python3.11/dist-packages (from aiohttp->datasets) (1.3.2)\n",
            "Requirement already satisfied: attrs>=17.3.0 in /usr/local/lib/python3.11/dist-packages (from aiohttp->datasets) (24.3.0)\n",
            "Requirement already satisfied: frozenlist>=1.1.1 in /usr/local/lib/python3.11/dist-packages (from aiohttp->datasets) (1.5.0)\n",
            "Requirement already satisfied: multidict<7.0,>=4.5 in /usr/local/lib/python3.11/dist-packages (from aiohttp->datasets) (6.1.0)\n",
            "Requirement already satisfied: propcache>=0.2.0 in /usr/local/lib/python3.11/dist-packages (from aiohttp->datasets) (0.2.1)\n",
            "Requirement already satisfied: yarl<2.0,>=1.17.0 in /usr/local/lib/python3.11/dist-packages (from aiohttp->datasets) (1.18.3)\n",
            "Requirement already satisfied: typing-extensions>=3.7.4.3 in /usr/local/lib/python3.11/dist-packages (from huggingface-hub<1.0,>=0.24.0->transformers) (4.12.2)\n",
            "Requirement already satisfied: charset-normalizer<4,>=2 in /usr/local/lib/python3.11/dist-packages (from requests->transformers) (3.4.1)\n",
            "Requirement already satisfied: idna<4,>=2.5 in /usr/local/lib/python3.11/dist-packages (from requests->transformers) (3.10)\n",
            "Requirement already satisfied: urllib3<3,>=1.21.1 in /usr/local/lib/python3.11/dist-packages (from requests->transformers) (2.3.0)\n",
            "Requirement already satisfied: certifi>=2017.4.17 in /usr/local/lib/python3.11/dist-packages (from requests->transformers) (2024.12.14)\n",
            "Requirement already satisfied: python-dateutil>=2.8.2 in /usr/local/lib/python3.11/dist-packages (from pandas->datasets) (2.8.2)\n",
            "Requirement already satisfied: pytz>=2020.1 in /usr/local/lib/python3.11/dist-packages (from pandas->datasets) (2024.2)\n",
            "Requirement already satisfied: tzdata>=2022.7 in /usr/local/lib/python3.11/dist-packages (from pandas->datasets) (2025.1)\n",
            "Requirement already satisfied: six>=1.5 in /usr/local/lib/python3.11/dist-packages (from python-dateutil>=2.8.2->pandas->datasets) (1.17.0)\n"
          ]
        }
      ],
      "source": [
        "\n",
        "!pip install transformers datasets pillow\n"
      ]
    },
    {
      "cell_type": "markdown",
      "id": "d7cdc479",
      "metadata": {
        "id": "d7cdc479"
      },
      "source": [
        "## Step 4: Load Pre-Trained Model for Image Classification"
      ]
    },
    {
      "cell_type": "code",
      "execution_count": 50,
      "id": "761dcdd9",
      "metadata": {
        "id": "761dcdd9"
      },
      "outputs": [],
      "source": [
        "\n",
        "from transformers import AutoFeatureExtractor, AutoModelForImageClassification\n",
        "from PIL import Image\n",
        "import requests\n",
        "\n",
        "# Load model and feature extractor\n",
        "model_name = \"google/vit-base-patch16-224\"\n",
        "feature_extractor = AutoFeatureExtractor.from_pretrained(model_name)\n",
        "model = AutoModelForImageClassification.from_pretrained(model_name)\n"
      ]
    },
    {
      "cell_type": "markdown",
      "id": "9aa6ffb4",
      "metadata": {
        "id": "9aa6ffb4"
      },
      "source": [
        "## Step 5: Load and Process an Image"
      ]
    },
    {
      "cell_type": "code",
      "execution_count": 63,
      "id": "6ac11ffe",
      "metadata": {
        "id": "6ac11ffe"
      },
      "outputs": [],
      "source": [
        "\n",
        "# Load an image from the web\n",
        "# url = \"/content/sample_data/image.png\"  # Replace with an actual image URL\n",
        "# Instead of using requests.get for a local file, use Image.open directly\n",
        "image = Image.open(\"/content/books\") # Changed to direct file path\n",
        "image = image.convert(\"RGB\")\n",
        "\n",
        "# Preprocess image\n",
        "inputs = feature_extractor(images=image, return_tensors=\"pt\")\n"
      ]
    },
    {
      "cell_type": "markdown",
      "id": "df85f4dd",
      "metadata": {
        "id": "df85f4dd"
      },
      "source": [
        "## Step 6: Perform Inference"
      ]
    },
    {
      "cell_type": "code",
      "execution_count": 64,
      "id": "b9122f43",
      "metadata": {
        "id": "b9122f43",
        "colab": {
          "base_uri": "https://localhost:8080/"
        },
        "outputId": "c22656c6-4fc5-4a06-f78e-f49a1098110c"
      },
      "outputs": [
        {
          "output_type": "stream",
          "name": "stdout",
          "text": [
            "Predicted class: 454\n"
          ]
        }
      ],
      "source": [
        "\n",
        "# Perform inference\n",
        "outputs = model(**inputs)\n",
        "logits = outputs.logits\n",
        "predicted_class = logits.argmax(-1).item()\n",
        "print(\"Predicted class:\", predicted_class)\n"
      ]
    },
    {
      "cell_type": "code",
      "source": [
        "labels = model.config.id2label\n",
        "predicted_label = labels.get(predicted_class, \"Unknown class\")\n",
        "print(\"Predicted Label : \", predicted_label)\n",
        "print(\"Predicted class index:\", predicted_class)"
      ],
      "metadata": {
        "colab": {
          "base_uri": "https://localhost:8080/"
        },
        "id": "XLUSdIFnbnRi",
        "outputId": "7476eefa-dc2f-4801-f849-eb7d0dd68410"
      },
      "id": "XLUSdIFnbnRi",
      "execution_count": 65,
      "outputs": [
        {
          "output_type": "stream",
          "name": "stdout",
          "text": [
            "Predicted Label :  bookshop, bookstore, bookstall\n",
            "Predicted class index: 454\n"
          ]
        }
      ]
    },
    {
      "cell_type": "markdown",
      "id": "0e083734",
      "metadata": {
        "id": "0e083734"
      },
      "source": [
        "## Step 7: Explain Image Classification Using LLM"
      ]
    },
    {
      "cell_type": "code",
      "execution_count": 66,
      "id": "a1f74138",
      "metadata": {
        "id": "a1f74138",
        "colab": {
          "base_uri": "https://localhost:8080/"
        },
        "outputId": "b5310ef3-a264-4c3a-d116-501058db5c68"
      },
      "outputs": [
        {
          "output_type": "stream",
          "name": "stderr",
          "text": [
            "Device set to use cpu\n",
            "Device set to use cpu\n",
            "Truncation was not explicitly activated but `max_length` is provided a specific value, please use `truncation=True` to explicitly truncate examples to max length. Defaulting to 'longest_first' truncation strategy. If you encode pairs of sequences (GLUE-style) with the tokenizer you can select this strategy more precisely by providing a specific strategy to `truncation`.\n",
            "Setting `pad_token_id` to `eos_token_id`:50256 for open-end generation.\n",
            "Device set to use cpu\n",
            "Truncation was not explicitly activated but `max_length` is provided a specific value, please use `truncation=True` to explicitly truncate examples to max length. Defaulting to 'longest_first' truncation strategy. If you encode pairs of sequences (GLUE-style) with the tokenizer you can select this strategy more precisely by providing a specific strategy to `truncation`.\n",
            "Setting `pad_token_id` to `eos_token_id`:50256 for open-end generation.\n"
          ]
        },
        {
          "output_type": "stream",
          "name": "stdout",
          "text": [
            "\n",
            "🔍 LLM Explanation:\n",
            " The Vision Transformer (ViT) model classified the given image as class '454'. Explain why this classification is reasonable based on the image's features.\n",
            "\n",
            "-\n",
            "\n",
            "4\n",
            "\n",
            "-\n",
            "\n",
            "...\n",
            "\n",
            "-\n",
            "\n",
            "4 minutes\n",
            "\n",
            "4 answers\n",
            "\n",
            "+1\n",
            "\n",
            "0\n",
            "\n",
            "0\n",
            "\n",
            "0\n",
            "\n",
            "+1\n",
            "\n",
            "0\n",
            "\n",
            "0\n",
            "\n",
            "0\n",
            "\n",
            "+1\n",
            "\n",
            "0\n",
            "\n",
            "0\n",
            "\n",
            "0\n",
            "\n",
            "-\n",
            "\n",
            "0\n",
            "\n",
            "0\n",
            "\n",
            "0\n",
            "\n",
            "+1\n",
            "\n",
            "0\n",
            "\n",
            "0\n",
            "\n",
            "0\n",
            "\n",
            "-\n",
            "\n",
            "0\n",
            "\n",
            "1\n",
            "\n",
            "2\n",
            "\n",
            "-\n",
            "\n",
            "0\n",
            "\n",
            "0\n",
            "\n",
            "0\n",
            "\n",
            "+1\n",
            "\n",
            "0\n",
            "\n"
          ]
        }
      ],
      "source": [
        "\n",
        "from transformers import pipeline\n",
        "\n",
        "# Load a text-generation model (GPT-like)\n",
        "llm = pipeline(\"text-generation\", model=\"EleutherAI/gpt-neo-1.3B\")\n",
        "\n",
        "# Create a prompt\n",
        "explanation_prompt = f\"The Vision Transformer (ViT) model classified the given image as class '{predicted_class}'. \"\n",
        "explanation_prompt += \"Explain why this classification is reasonable based on the image's features.\"\n",
        "\n",
        "from transformers import pipeline\n",
        "\n",
        "# Load a text-generation model (GPT-like)\n",
        "llm = pipeline(\"text-generation\", model=\"EleutherAI/gpt-neo-1.3B\")\n",
        "\n",
        "# Create a prompt\n",
        "explanation_prompt = f\"The Vision Transformer (ViT) model classified the given image as class '{predicted_class}'. \"\n",
        "explanation_prompt += \"Explain why this classification is reasonable based on the image's features.\"\n",
        "\n",
        "# Generate explanation\n",
        "llm_explanation = llm(explanation_prompt, max_length=150)[0][\"generated_text\"]\n",
        "from transformers import pipeline\n",
        "\n",
        "# Load a text-generation model (GPT-like)\n",
        "llm = pipeline(\"text-generation\", model=\"EleutherAI/gpt-neo-1.3B\")\n",
        "\n",
        "# Create a prompt\n",
        "explanation_prompt = f\"The Vision Transformer (ViT) model classified the given image as class '{predicted_class}'. \"\n",
        "explanation_prompt += \"Explain why this classification is reasonable based on the image's features.\"\n",
        "\n",
        "# Generate explanation\n",
        "llm_explanation = llm(explanation_prompt, max_length=150)[0][\"generated_text\"]\n",
        "\n",
        "print(\"\\n🔍 LLM Explanation:\\n\", llm_explanation)"
      ]
    },
    {
      "cell_type": "markdown",
      "id": "447a2450",
      "metadata": {
        "id": "447a2450"
      },
      "source": [
        "## Step 8: Push Final Changes to GitHub"
      ]
    },
    {
      "cell_type": "code",
      "execution_count": 83,
      "id": "fb7bf827",
      "metadata": {
        "id": "fb7bf827",
        "colab": {
          "base_uri": "https://localhost:8080/"
        },
        "outputId": "e29b5b59-d815-4ff1-c6b3-daec214bc953"
      },
      "outputs": [
        {
          "output_type": "stream",
          "name": "stdout",
          "text": [
            "On branch main\n",
            "nothing to commit, working tree clean\n",
            "error: src refspec master does not match any\n",
            "\u001b[31merror: failed to push some refs to 'https://github.com/your-username/your-repo.git'\n",
            "\u001b[m"
          ]
        }
      ],
      "source": [
        "\n",
        "!git add .\n",
        "!git commit -m \"Added image classification and LLM explanation\"\n",
        "!git push origin master\n"
      ]
    }
  ],
  "metadata": {
    "colab": {
      "provenance": []
    },
    "language_info": {
      "name": "python"
    },
    "kernelspec": {
      "name": "python3",
      "display_name": "Python 3"
    }
  },
  "nbformat": 4,
  "nbformat_minor": 5
}